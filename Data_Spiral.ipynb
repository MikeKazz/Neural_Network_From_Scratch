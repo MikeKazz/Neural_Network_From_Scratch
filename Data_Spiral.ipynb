{
  "nbformat": 4,
  "nbformat_minor": 0,
  "metadata": {
    "colab": {
      "name": "Data_Spiral.ipynb",
      "provenance": [],
      "authorship_tag": "ABX9TyOYitsEWPg+PcjvOZB1Ak6m",
      "include_colab_link": true
    },
    "kernelspec": {
      "name": "python3",
      "display_name": "Python 3"
    },
    "language_info": {
      "name": "python"
    }
  },
  "cells": [
    {
      "cell_type": "markdown",
      "metadata": {
        "id": "view-in-github",
        "colab_type": "text"
      },
      "source": [
        "<a href=\"https://colab.research.google.com/github/mehrdadkazemi254/Neural_Network_From_Scratch/blob/main/Data_Spiral.ipynb\" target=\"_parent\"><img src=\"https://colab.research.google.com/assets/colab-badge.svg\" alt=\"Open In Colab\"/></a>"
      ]
    },
    {
      "cell_type": "code",
      "source": [
        "import numpy as np\n",
        "import matplotlib.pyplot as plt\n",
        "\n",
        "def create_dataset(N, K=2):\n",
        "    N = 100 #number of points per class\n",
        "    D = 2\n",
        "    X = np.zeros((N*K,D)) #data matrix ( each row = single example)\n",
        "    y = np.zeros(N*K) #class labels\n",
        "\n",
        "    for j in range(K):\n",
        "        ix = range(N*j, N*(j+1))\n",
        "        r = np.linspace(0, 1, N) #radius\n",
        "        t = np.linspace(j*4, (j+1)*4, N) + np.random.randn(N) * 0.2\n",
        "        X[ix] = np.c_[r * np.sin(t), r * np.cos(t)]\n",
        "        y[ix] = j\n",
        "    #lets visualize the data\n",
        "    plt.scatter(X[:,0], X[:,1], c=y, s=40, cmap=plt.cm.Spectral)\n",
        "    plt.show()\n",
        "    return X, y\n",
        "\n",
        "def plot_contour(X, y, model, parameters):\n",
        "    #plot the resulting classifier\n",
        "    h = 0.02\n",
        "    x_min, x_max = X[:, 0].min() - 1, X[:, 0].max() + 1\n",
        "    y_min, y_max = X[:, 1].min() - 1, X[:, 1].max() + 1\n",
        "\n",
        "    xx, yy = np.meshgrid(np.arange(x_min, x_max, h), np.arange(y_min, y_max, h))\n",
        "    points = np.c_[xx.ravel(), yy.ravel()]\n",
        "\n",
        "    #forward prop with our trained parameters\n",
        "    _, Z = model.forward_prop(points, parameters)\n",
        "\n",
        "    #classify into highest prob\n",
        "    Z = np.argmax(Z, axis=1)\n",
        "    Z = Z.reshape(xx.shape)\n",
        "    plt.contourf(xx, yy, Z, cmap=plt.cm.Spectral, alpha=0.8)\n",
        "\n",
        "    #plot the points\n",
        "    plt.scatter(X[:, 0], X[:, 1], c=y, s=40, cmap=plt.cm.Spectral)\n",
        "    plt.savefig('spiral_net.png')"
      ],
      "metadata": {
        "id": "rmT9YoMxdhr9"
      },
      "execution_count": 3,
      "outputs": []
    }
  ]
}