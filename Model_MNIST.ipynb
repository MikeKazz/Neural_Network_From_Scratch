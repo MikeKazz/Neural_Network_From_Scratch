{
  "nbformat": 4,
  "nbformat_minor": 0,
  "metadata": {
    "colab": {
      "name": "Model_MNIST.ipynb",
      "provenance": [],
      "authorship_tag": "ABX9TyPizwT9/H0b6sz7gtX6mUHx",
      "include_colab_link": true
    },
    "kernelspec": {
      "name": "python3",
      "display_name": "Python 3"
    },
    "language_info": {
      "name": "python"
    }
  },
  "cells": [
    {
      "cell_type": "markdown",
      "metadata": {
        "id": "view-in-github",
        "colab_type": "text"
      },
      "source": [
        "<a href=\"https://colab.research.google.com/github/mehrdadkazemi254/Neural_Network_From_Scratch/blob/main/Model_MNIST.ipynb\" target=\"_parent\"><img src=\"https://colab.research.google.com/assets/colab-badge.svg\" alt=\"Open In Colab\"/></a>"
      ]
    },
    {
      "cell_type": "markdown",
      "source": [
        "## Data preprocessing"
      ],
      "metadata": {
        "id": "zq-nBS8evC4_"
      }
    },
    {
      "cell_type": "code",
      "source": [
        "import numpy as np\n",
        "from keras.datasets import mnist\n",
        "(X_train, y_train), (X_test, y_test) = mnist.load_data()"
      ],
      "metadata": {
        "id": "FNeSAvTbiYIh"
      },
      "execution_count": 25,
      "outputs": []
    },
    {
      "cell_type": "code",
      "source": [
        "X_train = X_train[0:5000, :]\n",
        "X_test = X_test[0:500, :]\n",
        "y_train = y_train[0:5000]\n",
        "y_test = y_test[0:500]\n",
        "image_vector_size = 28*28\n",
        "X_train = X_train.reshape(X_train.shape[0], image_vector_size)\n",
        "X_test = X_test.reshape(X_test.shape[0], image_vector_size)"
      ],
      "metadata": {
        "id": "xMalyxdGkJYu"
      },
      "execution_count": 33,
      "outputs": []
    },
    {
      "cell_type": "code",
      "source": [
        "print(f\" X_train shape: {X_train.shape}\")\n",
        "print(f\" y_train shape: {y_train.shape}\")\n",
        "print(f\" X_test shape: {X_test.shape}\")\n",
        "print(f\" y_test shape: {y_test.shape}\")"
      ],
      "metadata": {
        "colab": {
          "base_uri": "https://localhost:8080/"
        },
        "id": "hzQBDF12mPQ-",
        "outputId": "03f8b7d1-5b40-4969-e3b4-de68c8bb436e"
      },
      "execution_count": 36,
      "outputs": [
        {
          "output_type": "stream",
          "name": "stdout",
          "text": [
            " X_train shape: (5000, 784)\n",
            " y_train shape: (5000,)\n",
            " X_test shape: (500, 784)\n",
            " y_test shape: (500,)\n"
          ]
        }
      ]
    },
    {
      "cell_type": "code",
      "source": [
        "# the and y axis for plotting\n",
        "cost_y = []\n",
        "iteration_X = []"
      ],
      "metadata": {
        "id": "x4ZcpR66t-Ac"
      },
      "execution_count": 64,
      "outputs": []
    },
    {
      "cell_type": "markdown",
      "source": [
        "## The model"
      ],
      "metadata": {
        "id": "y1okwD2tvHcH"
      }
    },
    {
      "cell_type": "code",
      "execution_count": 65,
      "metadata": {
        "id": "tyUfKLnihcS4"
      },
      "outputs": [],
      "source": [
        "class NeuralNetwork():\n",
        "    def __init__(self, X, y):\n",
        "        #m : number of images\n",
        "        self.m = X.shape[0]\n",
        "        #n : number of features in our data (784)\n",
        "        self.n = X.shape[1]\n",
        "        #h1 : size of the first hidden layer\n",
        "        self.h1 = 25\n",
        "        #h2 : number of nodes in output (10 digits)\n",
        "        self.h2 = 10\n",
        "        #learning rate\n",
        "        self.learning_rate = 1e-3\n",
        "\n",
        "    def initialize_weights(self, l0, l1):\n",
        "        #l0: the number of nodes it is coming from\n",
        "        #l1: the number of nodes it is going to\n",
        "        w = np.random.randn(l0, l1) * 0.01\n",
        "        b = np.zeros((1, l1))\n",
        "        return w, b\n",
        "\n",
        "    def forward_prop(self, X, parameters): #parameters is a dictionary that stores all the necessary weights and biases\n",
        "        W2 = parameters['W2']  #from the hidden layer 1 to 2\n",
        "        W1 = parameters['W1']  #from the input to the hidden layer 1\n",
        "        b1 = parameters['b1']\n",
        "        b2 = parameters['b2']\n",
        "\n",
        "        #forward prop\n",
        "        a0 = X\n",
        "        z1 = np.dot(a0, W1) + b1\n",
        "        a1 = np.maximum(0, z1) #ReLU activation function\n",
        "        z2 = np.dot(a1, W2) + b2\n",
        "\n",
        "        #softmax\n",
        "        scores = z2\n",
        "        exp_scores = np.exp(scores)\n",
        "        probs = exp_scores / np.sum(exp_scores, axis=1, keepdims=True)\n",
        "\n",
        "        cache = {'a0': X, 'probs': probs, 'a1': a1}\n",
        "        return cache, probs\n",
        "\n",
        "    def compute_cost(self, y, probs, parameters): #cross entropy loss\n",
        "        W1 = parameters['W1']\n",
        "        W2 = parameters['W2']\n",
        "\n",
        "        loss = -np.log(probs[np.arange(self.m),y])\n",
        "        avg_loss = np.sum(loss) / self.m\n",
        "\n",
        "        return avg_loss\n",
        "\n",
        "    def back_prop(self, cache, parameters, y):\n",
        "        #unpack parameters\n",
        "        W2 = parameters['W2']\n",
        "        W1 = parameters['W1']\n",
        "        b1 = parameters['b1']\n",
        "        b2 = parameters['b2']\n",
        "\n",
        "        #unpack from forward prop\n",
        "        a0 = cache['a0']\n",
        "        a1 = cache['a1']\n",
        "        probs = cache['probs']\n",
        "\n",
        "        #we want dW1, dW2, db1, db2\n",
        "        dz2 = probs\n",
        "        dz2[np.arange(self.m), y] -= 1\n",
        "        dz2 /= self.m\n",
        "\n",
        "        #backprop to dW2, db2\n",
        "        dW2 = np.dot(a1.T, dz2)\n",
        "        db2 = np.sum(dz2, axis=0, keepdims=True)\n",
        "\n",
        "        dz1 = np.dot(dz2, W2.T)\n",
        "        dz1 = dz1 * (a1 > 0)\n",
        "\n",
        "        dW1 = np.dot(a0.T, dz1)\n",
        "        db1 = np.sum(dz1, axis=0, keepdims=True)\n",
        "\n",
        "        grads = {'dW1': dW1, 'dW2': dW2, 'db1': db1, 'db2': db2}\n",
        "\n",
        "        return grads\n",
        "\n",
        "    def update_parameters(self, parameters, grads):\n",
        "        #gradient descent step\n",
        "        W2 = parameters['W2']\n",
        "        W1 = parameters['W1']\n",
        "        b1 = parameters['b1']\n",
        "        b2 = parameters['b2']\n",
        "\n",
        "        dW1 = grads['dW1']\n",
        "        dW2 = grads['dW2']\n",
        "        db1 = grads['db1']\n",
        "        db2 = grads['db2']\n",
        "\n",
        "        W2 -= self.learning_rate * dW2\n",
        "        W1 -= self.learning_rate * dW1\n",
        "        b2 -= self.learning_rate * db2\n",
        "        b1 -= self.learning_rate * db1\n",
        "\n",
        "        parameters = {'W1': W1, 'W2': W2, 'b1': b1, 'b2': b2}\n",
        "        return parameters\n",
        "\n",
        "    def main(self, X, y, num_iter=1000):\n",
        "        W1, b1 = self.initialize_weights(self.n, self.h1)\n",
        "        W2, b2 = self.initialize_weights(self.h1, self.h2)\n",
        "\n",
        "        parameters = {'W1': W1, 'W2': W2, 'b1': b1, 'b2': b2}\n",
        "      \n",
        "        for it in range(num_iter + 1):\n",
        "            #forward prop\n",
        "            cache, probs = self.forward_prop(X, parameters)\n",
        "\n",
        "            #calculate cost\n",
        "            cost = self.compute_cost(y, probs, parameters)\n",
        "\n",
        "            if it % 100 == 0:\n",
        "                print(f\"At iteration {it}, we have a Loss of {cost}\")\n",
        "\n",
        "            grads = self.back_prop(cache, parameters, y)\n",
        "\n",
        "            #update parameters\n",
        "            parameters = self.update_parameters(parameters, grads)\n",
        "            cost_y.append(cost)\n",
        "            iteration_X.append(it)\n",
        "        return parameters"
      ]
    },
    {
      "cell_type": "markdown",
      "source": [
        "## Training"
      ],
      "metadata": {
        "id": "UEZmbVKcvMEb"
      }
    },
    {
      "cell_type": "code",
      "source": [
        "NN = NeuralNetwork(X_train, y_train)\n",
        "trained_parameters = NN.main(X_train, y_train, 1000)"
      ],
      "metadata": {
        "colab": {
          "base_uri": "https://localhost:8080/"
        },
        "id": "oZPa8rQqiN3O",
        "outputId": "03512ba8-c37d-4ac5-cdda-e3fa47240af8"
      },
      "execution_count": 66,
      "outputs": [
        {
          "output_type": "stream",
          "name": "stdout",
          "text": [
            "At iteration 0, we have a Loss of 2.7280680809274593\n",
            "At iteration 100, we have a Loss of 0.377862788392031\n",
            "At iteration 200, we have a Loss of 0.2741571811694135\n",
            "At iteration 300, we have a Loss of 0.22392932262773665\n",
            "At iteration 400, we have a Loss of 0.1905708423263292\n",
            "At iteration 500, we have a Loss of 0.16568252846679377\n",
            "At iteration 600, we have a Loss of 0.14578265070370394\n",
            "At iteration 700, we have a Loss of 0.1289728606703809\n",
            "At iteration 800, we have a Loss of 0.1145044423195986\n",
            "At iteration 900, we have a Loss of 0.10182242117250487\n",
            "At iteration 1000, we have a Loss of 0.09054805258167928\n"
          ]
        }
      ]
    },
    {
      "cell_type": "markdown",
      "source": [
        "## Plotting"
      ],
      "metadata": {
        "id": "vQ5SYW-9vOwz"
      }
    },
    {
      "cell_type": "code",
      "source": [
        "import matplotlib.pyplot as plt\n",
        "plt.plot(iteration_X, cost_y)\n",
        "plt.xlabel('Iteration', fontsize=16)\n",
        "plt.ylabel('Loss', fontsize=16)\n",
        "plt.savefig('learning.jpg', dpi=300)"
      ],
      "metadata": {
        "colab": {
          "base_uri": "https://localhost:8080/",
          "height": 284
        },
        "id": "UDrc8ZUItPju",
        "outputId": "db6e0a89-95a3-4117-f19b-3e6cd6f26442"
      },
      "execution_count": 74,
      "outputs": [
        {
          "output_type": "display_data",
          "data": {
            "text/plain": [
              "<Figure size 432x288 with 1 Axes>"
            ],
            "image/png": "[encoded data removed]"
          },
          "metadata": {
            "needs_background": "light"
          }
        }
      ]
    },
    {
      "cell_type": "markdown",
      "source": [
        "## prediction and accuracy"
      ],
      "metadata": {
        "id": "UeJfG7VgvRI4"
      }
    },
    {
      "cell_type": "code",
      "source": [
        "W2 = trained_parameters['W2']\n",
        "W1 = trained_parameters['W2']\n",
        "b2 = trained_parameters['b2']\n",
        "b1 = trained_parameters['b1']"
      ],
      "metadata": {
        "id": "ncMUNJb3nBcF"
      },
      "execution_count": 49,
      "outputs": []
    },
    {
      "cell_type": "code",
      "source": [
        "#run forward propogation with trained parameters on X_test\n",
        "_, probs = NN.forward_prop(X_test, trained_parameters)\n",
        "y_pred = np.argsort(probs, axis=1)[:, -1]"
      ],
      "metadata": {
        "id": "kD2O-xporaZo"
      },
      "execution_count": 51,
      "outputs": []
    },
    {
      "cell_type": "code",
      "source": [
        "accuracy = np.sum((y_pred == y_test)) / y_pred.shape[0]\n",
        "print(f\"The accuracy of our model is {accuracy*100}%\")"
      ],
      "metadata": {
        "colab": {
          "base_uri": "https://localhost:8080/"
        },
        "id": "ZSUj9G6PrpK1",
        "outputId": "c45cf673-1790-4b63-dd51-cf6c195f5f3a"
      },
      "execution_count": 55,
      "outputs": [
        {
          "output_type": "stream",
          "name": "stdout",
          "text": [
            "The accuracy of our model is 92.0%\n"
          ]
        }
      ]
    }
  ]
}